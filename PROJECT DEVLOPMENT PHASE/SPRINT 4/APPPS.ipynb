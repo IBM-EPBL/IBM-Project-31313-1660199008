{
 "cells": [
  {
   "cell_type": "code",
   "execution_count": null,
   "id": "ba02dd7b",
   "metadata": {},
   "outputs": [
    {
     "name": "stdout",
     "output_type": "stream",
     "text": [
      " * Serving Flask app \"__main__\" (lazy loading)\n",
      " * Environment: production\n",
      "\u001b[31m   WARNING: This is a development server. Do not use it in a production deployment.\u001b[0m\n",
      "\u001b[2m   Use a production WSGI server instead.\u001b[0m\n",
      " * Debug mode: off\n"
     ]
    },
    {
     "name": "stderr",
     "output_type": "stream",
     "text": [
      " * Running on http://127.0.0.1:5000/ (Press CTRL+C to quit)\n"
     ]
    }
   ],
   "source": [
    "# -*- coding: utf-8 -*-\n",
    "import numpy as np\n",
    "import pickle\n",
    "import joblib\n",
    "import matplotlib\n",
    "import matplotlib.pyplot as plt\n",
    "import time\n",
    "import pandas\n",
    "import os\n",
    "from sklearn import *\n",
    "from flask import Flask,request,jsonify,render_template,redirect,url_for\n",
    "\n",
    "#app = Flask(__name__)\n",
    "\n",
    "\n",
    "#    return render_template('index.html')\n",
    "\n",
    "app = Flask(__name__, static_folder='static')\n",
    "model = pickle.load(open(\"rainfall.pkl\",\"rb\"))\n",
    "\n",
    "scale= pickle.load(open(\"scale.pkl\",\"rb\"))\n",
    "encoder = pickle.load(open(\"encoder.pkl\",\"rb\"))\n",
    "\n",
    "@app.route('/')\n",
    "def home():\n",
    "   return render_template('index.html')\n",
    "\n",
    "@app.route('/predict',methods=[\"POST\",\"GET\"])\n",
    "def predict():\n",
    "   inp_feature = [x for x in request.form.values()]\n",
    "   inp_feature=inp_feature[:17]\n",
    "   print(inp_feature)\n",
    "\n",
    "   feature_values = [np.array(inp_feature)]\n",
    "\n",
    "\n",
    "   names = [['Location', 'MinTemp', 'MaxTemp', 'Rainfall', 'WindGustSpeed',\n",
    "             'WindSpeed9am', 'WindSpeed3pm', 'Humidity9am', 'Humidity3pm',\n",
    "             'Pressure9am', 'Pressure3pm', 'Temp9am', 'Temp3pm', 'RainToday',\n",
    "             'WindGustDir', 'WindDir9am', 'WindDir3pm']]\n",
    "\n",
    "   data = pandas.DataFrame(feature_values,columns=names)\n",
    "   print(data)\n",
    "   data = scale.fit_transform(data)\n",
    "   print(data)\n",
    "   data = pandas.DataFrame(data,columns=names)\n",
    "   print(data)\n",
    "   prediction = model.predict(data)\n",
    "   #pred_prob = model.predict_proba(data)\n",
    "   print(prediction)\n",
    "   if prediction == \"Yes\":\n",
    "      return render_template(\"yes.html\")\n",
    "   else:\n",
    "      return render_template(\"no.html\")\n",
    "\n",
    "\n",
    "\n",
    "\n",
    "\n",
    "if __name__ == '__main__':\n",
    "   app.run()"
   ]
  },
  {
   "cell_type": "code",
   "execution_count": null,
   "id": "a8efdec4",
   "metadata": {},
   "outputs": [],
   "source": []
  }
 ],
 "metadata": {
  "kernelspec": {
   "display_name": "Python 3 (ipykernel)",
   "language": "python",
   "name": "python3"
  },
  "language_info": {
   "codemirror_mode": {
    "name": "ipython",
    "version": 3
   },
   "file_extension": ".py",
   "mimetype": "text/x-python",
   "name": "python",
   "nbconvert_exporter": "python",
   "pygments_lexer": "ipython3",
   "version": "3.9.13"
  }
 },
 "nbformat": 4,
 "nbformat_minor": 5
}
